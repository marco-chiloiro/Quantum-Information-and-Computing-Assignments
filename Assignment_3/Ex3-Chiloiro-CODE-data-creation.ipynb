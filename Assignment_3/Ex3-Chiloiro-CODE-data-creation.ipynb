{
 "cells": [
  {
   "cell_type": "code",
   "execution_count": 1,
   "id": "published-purple",
   "metadata": {},
   "outputs": [],
   "source": [
    "import mylib\n",
    "import numpy as np"
   ]
  },
  {
   "cell_type": "code",
   "execution_count": 2,
   "id": "understanding-connectivity",
   "metadata": {},
   "outputs": [],
   "source": [
    "def log10space(low, high):\n",
    "    \"\"\"\n",
    "    Returns logarithm interval between low and high.\n",
    "    \n",
    "    Ex: log10space(10, 2000) returns [10, 20, 30, ..., 100, 200, 300, ..., 1000, 2000]\n",
    "    \"\"\"\n",
    "    low10 = low//10*10\n",
    "    high10 = high//10*10\n",
    "    ans = np.array([])\n",
    "    tmp = low10\n",
    "    for i in range(int(np.log10(low10))+1,int(np.log10(high10))+1):\n",
    "        while tmp<10**i:\n",
    "            tmp =  int(tmp+10**(i-1)/2)\n",
    "            ans = np.append(ans, tmp)\n",
    "        if i == int(np.log10(high10)):\n",
    "            while tmp<high10:\n",
    "                tmp =  int(tmp+10**i/2)\n",
    "                ans = np.append(ans, tmp)\n",
    "    return ans.astype('int32')"
   ]
  },
  {
   "cell_type": "code",
   "execution_count": 3,
   "id": "collectible-picking",
   "metadata": {},
   "outputs": [],
   "source": [
    "N_min = 10**2\n",
    "N_max = 5*10**3\n",
    "N_int = log10space(N_min, N_max)"
   ]
  },
  {
   "cell_type": "code",
   "execution_count": 4,
   "id": "surprising-pioneer",
   "metadata": {},
   "outputs": [],
   "source": [
    "# save results\n",
    "for algType in range(1,4):\n",
    "    with open(f'AlgType = {algType}', 'w') as file:\n",
    "        for N in N_int:\n",
    "            el_time = mylib.matrixmultiplication(N, algType)\n",
    "            file.write(f'{N}, {el_time}\\n')\n",
    "    file.close()"
   ]
  }
 ],
 "metadata": {
  "kernelspec": {
   "display_name": "Python 3",
   "language": "python",
   "name": "python3"
  },
  "language_info": {
   "codemirror_mode": {
    "name": "ipython",
    "version": 3
   },
   "file_extension": ".py",
   "mimetype": "text/x-python",
   "name": "python",
   "nbconvert_exporter": "python",
   "pygments_lexer": "ipython3",
   "version": "3.8.2"
  }
 },
 "nbformat": 4,
 "nbformat_minor": 5
}
